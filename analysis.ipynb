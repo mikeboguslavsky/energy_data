{
 "cells": [
  {
   "cell_type": "code",
   "execution_count": 1,
   "id": "151bc412",
   "metadata": {},
   "outputs": [
    {
     "name": "stderr",
     "output_type": "stream",
     "text": [
      "c:\\python38\\lib\\site-packages\\pandasdmx\\remote.py:11: RuntimeWarning: optional dependency requests_cache is not installed; cache options to Session() have no effect\n",
      "  warn(\n"
     ]
    }
   ],
   "source": [
    "from utils import get_un_data, agg_df, move_legend\n",
    "\n",
    "import pandas as pd\n",
    "import matplotlib.pyplot as plt\n",
    "import seaborn as sns\n"
   ]
  },
  {
   "cell_type": "markdown",
   "id": "fc27cf20",
   "metadata": {},
   "source": [
    "### Download data"
   ]
  },
  {
   "cell_type": "code",
   "execution_count": 2,
   "id": "9ed35e3f",
   "metadata": {},
   "outputs": [],
   "source": [
    "elec_df = get_un_data(dataflow = 'DF_UNDATA_ENERGY',\n",
    "                        structure = 'DSD_ENERGY',\n",
    "                        commod = 'CL_COMMODITY_NRG',\n",
    "                        country = 'CL_AREA_NRG',\n",
    "                        transaction = 'CL_TRANSACTION_NRG',\n",
    "                        key = {'COMMODITY': '7000'},\n",
    "                        start_period = '2018')\n",
    "\n",
    "bal_df = get_un_data(dataflow = 'DF_UNData_EnergyBalance',\n",
    "                        structure = 'DSD_ENERGY_BALANCE_UNDATA',\n",
    "                        commod = 'CL_COMMODITY_ENERGY_BALANCE_UNDATA',\n",
    "                        country = 'CL_AREA',\n",
    "                        transaction = 'CL_TRANS_ENERGY_BALANCE_UNDATA',\n",
    "                        key = {'TRANSACTION': ['B11_08811','B12_08821']},\n",
    "                        start_period = '2018')\n",
    "\n",
    "all_df = get_un_data(dataflow = 'DF_UNDATA_ENERGY',\n",
    "                        structure = 'DSD_ENERGY',\n",
    "                        commod = 'CL_COMMODITY_NRG',\n",
    "                        country = 'CL_AREA_NRG',\n",
    "                        transaction = 'CL_TRANSACTION_NRG',\n",
    "                        key = {'TRANSACTION': ['121','122','1231','1232','1234','1235']},\n",
    "                        start_period = '2008')\n",
    "\n",
    "# sum over all countries\n",
    "elec_df_agg = agg_df(elec_df).reset_index()\n",
    "bal_df_agg = agg_df(bal_df).reset_index()\n",
    "all_df_agg = agg_df(all_df).reset_index()\n"
   ]
  },
  {
   "cell_type": "markdown",
   "id": "aaa27fec",
   "metadata": {},
   "source": [
    "### Question 1: 2018 world electricity generation by source\n",
    "I left the output as a table, because I think it's easier to read than a pie chart."
   ]
  },
  {
   "cell_type": "code",
   "execution_count": 3,
   "id": "c6fd5b6a",
   "metadata": {},
   "outputs": [
    {
     "data": {
      "text/html": [
       "<div>\n",
       "<style scoped>\n",
       "    .dataframe tbody tr th:only-of-type {\n",
       "        vertical-align: middle;\n",
       "    }\n",
       "\n",
       "    .dataframe tbody tr th {\n",
       "        vertical-align: top;\n",
       "    }\n",
       "\n",
       "    .dataframe thead th {\n",
       "        text-align: right;\n",
       "    }\n",
       "</style>\n",
       "<table border=\"1\" class=\"dataframe\">\n",
       "  <thead>\n",
       "    <tr style=\"text-align: right;\">\n",
       "      <th></th>\n",
       "      <th>source</th>\n",
       "      <th>pct</th>\n",
       "    </tr>\n",
       "  </thead>\n",
       "  <tbody>\n",
       "    <tr>\n",
       "      <th>0</th>\n",
       "      <td>Combustible fuels</td>\n",
       "      <td>0.643679</td>\n",
       "    </tr>\n",
       "    <tr>\n",
       "      <th>1</th>\n",
       "      <td>Hydro</td>\n",
       "      <td>0.173165</td>\n",
       "    </tr>\n",
       "    <tr>\n",
       "      <th>2</th>\n",
       "      <td>Nuclear</td>\n",
       "      <td>0.110827</td>\n",
       "    </tr>\n",
       "    <tr>\n",
       "      <th>5</th>\n",
       "      <td>Wind</td>\n",
       "      <td>0.050719</td>\n",
       "    </tr>\n",
       "    <tr>\n",
       "      <th>4</th>\n",
       "      <td>Solar</td>\n",
       "      <td>0.017821</td>\n",
       "    </tr>\n",
       "    <tr>\n",
       "      <th>3</th>\n",
       "      <td>Other</td>\n",
       "      <td>0.003789</td>\n",
       "    </tr>\n",
       "  </tbody>\n",
       "</table>\n",
       "</div>"
      ],
      "text/plain": [
       "              source       pct\n",
       "0  Combustible fuels  0.643679\n",
       "1              Hydro  0.173165\n",
       "2            Nuclear  0.110827\n",
       "5               Wind  0.050719\n",
       "4              Solar  0.017821\n",
       "3              Other  0.003789"
      ]
     },
     "execution_count": 3,
     "metadata": {},
     "output_type": "execute_result"
    }
   ],
   "source": [
    "# compute electricity production by source\n",
    "# in the main U.N. database, combustible fuels are not split out\n",
    "# into gas, coal, etc.\n",
    "\n",
    "prod_dict = {'Production from combustible fuels – Main activity':'Combustible fuels',\n",
    "             'Production from Geothermal – Main activity':'Other',\n",
    "             'Production from chemical heat/sources – Main activity':'Other',\n",
    "             'Production from Hydro – Main activity':'Hydro',\n",
    "             'Production from Nuclear – Main activity':'Nuclear',\n",
    "             'Production from other sources – Main activity':'Other',\n",
    "             'Production from Solar – Main activity':'Solar',\n",
    "             'Production from Tide, wave and marine – Main activity':'Other',\n",
    "             'Production from Wind – Main activity':'Wind',\n",
    "}\n",
    "\n",
    "prod_data = elec_df_agg.query('trans_name in @prod_dict.keys()')\n",
    "prod_data = prod_data.query('TIME_PERIOD == \"2018\"')\n",
    "prod_data.rename(columns={'trans_name':'source'}, inplace=True)\n",
    "prod_data['source'] = prod_data['source'].replace(prod_dict)\n",
    "\n",
    "prod_data = prod_data[['source', 'value']].groupby('source').sum().reset_index()\n",
    "prod_data['pct'] = prod_data['value']/prod_data['value'].sum()\n",
    "prod_data = prod_data.sort_values(by='pct', ascending=False)\n",
    "prod_data[['source', 'pct']]"
   ]
  },
  {
   "cell_type": "code",
   "execution_count": 4,
   "id": "b0265061",
   "metadata": {},
   "outputs": [
    {
     "data": {
      "text/html": [
       "<div>\n",
       "<style scoped>\n",
       "    .dataframe tbody tr th:only-of-type {\n",
       "        vertical-align: middle;\n",
       "    }\n",
       "\n",
       "    .dataframe tbody tr th {\n",
       "        vertical-align: top;\n",
       "    }\n",
       "\n",
       "    .dataframe thead th {\n",
       "        text-align: right;\n",
       "    }\n",
       "</style>\n",
       "<table border=\"1\" class=\"dataframe\">\n",
       "  <thead>\n",
       "    <tr style=\"text-align: right;\">\n",
       "      <th></th>\n",
       "      <th>source</th>\n",
       "      <th>pct</th>\n",
       "    </tr>\n",
       "  </thead>\n",
       "  <tbody>\n",
       "    <tr>\n",
       "      <th>1</th>\n",
       "      <td>Coal</td>\n",
       "      <td>0.383287</td>\n",
       "    </tr>\n",
       "    <tr>\n",
       "      <th>2</th>\n",
       "      <td>Natural Gas</td>\n",
       "      <td>0.199988</td>\n",
       "    </tr>\n",
       "    <tr>\n",
       "      <th>1</th>\n",
       "      <td>Hydro</td>\n",
       "      <td>0.173165</td>\n",
       "    </tr>\n",
       "    <tr>\n",
       "      <th>2</th>\n",
       "      <td>Nuclear</td>\n",
       "      <td>0.110827</td>\n",
       "    </tr>\n",
       "    <tr>\n",
       "      <th>5</th>\n",
       "      <td>Wind</td>\n",
       "      <td>0.050719</td>\n",
       "    </tr>\n",
       "    <tr>\n",
       "      <th>3</th>\n",
       "      <td>Oil</td>\n",
       "      <td>0.031762</td>\n",
       "    </tr>\n",
       "    <tr>\n",
       "      <th>0</th>\n",
       "      <td>Biofuels</td>\n",
       "      <td>0.028643</td>\n",
       "    </tr>\n",
       "    <tr>\n",
       "      <th>4</th>\n",
       "      <td>Solar</td>\n",
       "      <td>0.017821</td>\n",
       "    </tr>\n",
       "    <tr>\n",
       "      <th>3</th>\n",
       "      <td>Other</td>\n",
       "      <td>0.003789</td>\n",
       "    </tr>\n",
       "  </tbody>\n",
       "</table>\n",
       "</div>"
      ],
      "text/plain": [
       "        source       pct\n",
       "1         Coal  0.383287\n",
       "2  Natural Gas  0.199988\n",
       "1        Hydro  0.173165\n",
       "2      Nuclear  0.110827\n",
       "5         Wind  0.050719\n",
       "3          Oil  0.031762\n",
       "0     Biofuels  0.028643\n",
       "4        Solar  0.017821\n",
       "3        Other  0.003789"
      ]
     },
     "execution_count": 4,
     "metadata": {},
     "output_type": "execute_result"
    }
   ],
   "source": [
    "# use the energy balance data to split out combustible fuels\n",
    "# this dataset has the fuel usage expressed in units of energy\n",
    "\n",
    "bal_dict = {'Biofuels and waste':'Biofuels',\n",
    "             'Coal and peat products':'Coal',\n",
    "             'Natural Gas':'Natural Gas',\n",
    "             'Oil Products':'Oil',\n",
    "             'Primary Oil':'Oil',\n",
    "             'Primary coal and peat':'Coal',\n",
    "}\n",
    "\n",
    "bal_data = bal_df_agg.query('TIME_PERIOD == \"2018\"')\n",
    "bal_data.rename(columns={'Commodity ENERGY Balance Codelist':'source'}, inplace=True)\n",
    "bal_data = bal_data.query('source in @bal_dict.keys()')\n",
    "bal_data['source'] = bal_data['source'].replace(bal_dict)\n",
    "\n",
    "bal_data = bal_data.groupby('source').sum().reset_index()\n",
    "bal_data['pct'] = bal_data['value']/bal_data['value'].sum()\n",
    "\n",
    "# multiply pct by combustible fuels' share of generation\n",
    "comb_share = prod_data.query('source == \"Combustible fuels\"')['pct'].values[0]\n",
    "bal_data['pct'] = bal_data['pct'] * comb_share\n",
    "\n",
    "# combine combustible fuel sources with the rest\n",
    "source_data = pd.concat([bal_data, prod_data])\n",
    "source_data = source_data.query('source != \"Combustible fuels\"')\n",
    "source_data = source_data.sort_values(by='pct', ascending=False)\n",
    "source_data[['source','pct']]"
   ]
  },
  {
   "cell_type": "markdown",
   "id": "f0c25db6",
   "metadata": {},
   "source": [
    "### Question 2: World energy consumption by sector\n",
    "Note: In the chart, units for different energy sources are not the same (metric tons for coal, kWh for electricity, etc.). So the units are not meaningful, but the trend over time is. Also, electricity from combustible fuels is likely double-counted."
   ]
  },
  {
   "cell_type": "code",
   "execution_count": 9,
   "id": "b04c1279",
   "metadata": {
    "scrolled": false
   },
   "outputs": [
    {
     "data": {
      "image/png": "[encoded data removed]",
      "text/plain": [
       "<Figure size 720x432 with 1 Axes>"
      ]
     },
     "metadata": {
      "needs_background": "light"
     },
     "output_type": "display_data"
    }
   ],
   "source": [
    "usage_dict = {'Consumption by manufacturing, construction and non-fuel industry':'Industry',\n",
    "                'Consumption by transport':'Transport',\n",
    "                'Consumption by agriculture, forestry and fishing':'Agriculture',\n",
    "                'Consumption by commerce and public services':'Commerce/Public Services',\n",
    "                'Consumption by households':'Households',\n",
    "                'Consumption not elsewhere specified (other)':'Other',\n",
    "                }\n",
    "\n",
    "usage_years = [str(yr) for yr in range(2008,2019)]\n",
    "\n",
    "usage_data = all_df_agg.query('trans_name in @usage_dict.keys()')\n",
    "usage_data = usage_data.query('TIME_PERIOD in @usage_years')\n",
    "usage_data = usage_data[['TIME_PERIOD', 'trans_name', 'value']]\n",
    "usage_data = usage_data.groupby(['TIME_PERIOD','trans_name']).sum().reset_index()\n",
    "usage_data['trans_name'] = usage_data['trans_name'].replace(usage_dict)\n",
    "\n",
    "plt.figure(figsize=(10,6))\n",
    "\n",
    "# https://www.pythoncharts.com/python/stacked-bar-charts/\n",
    "g = sns.histplot(\n",
    "    usage_data,\n",
    "    x='TIME_PERIOD',\n",
    "    # Use the value variable here to turn histogram counts into weighted\n",
    "    # values.\n",
    "    weights='value',\n",
    "    hue='trans_name',\n",
    "    multiple='stack',\n",
    "    # Add white borders to the bars.\n",
    "    edgecolor='white',\n",
    "    # Shrink the bars a bit so they don't touch.\n",
    "    shrink=0.8,\n",
    ")\n",
    "\n",
    "g.set_title('World energy consumption by sector')\n",
    "g.set_xlabel('Year')\n",
    "g.set_ylabel('No units')\n",
    "move_legend(g, 'center right', bbox_to_anchor=(1.33, 0.5), ncol=1)\n"
   ]
  }
 ],
 "metadata": {
  "kernelspec": {
   "display_name": "Python 3",
   "language": "python",
   "name": "python3"
  },
  "language_info": {
   "codemirror_mode": {
    "name": "ipython",
    "version": 3
   },
   "file_extension": ".py",
   "mimetype": "text/x-python",
   "name": "python",
   "nbconvert_exporter": "python",
   "pygments_lexer": "ipython3",
   "version": "3.8.6"
  }
 },
 "nbformat": 4,
 "nbformat_minor": 5
}
